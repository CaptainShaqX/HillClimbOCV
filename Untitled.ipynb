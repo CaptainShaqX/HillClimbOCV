{
 "cells": [
  {
   "cell_type": "code",
   "execution_count": 1,
   "id": "3b9d32a3-0f2a-48da-9dab-0c1bb31f2a86",
   "metadata": {},
   "outputs": [],
   "source": [
    "import mediapipe as mp\n",
    "import cv2\n",
    "import pydirectinput"
   ]
  },
  {
   "cell_type": "code",
   "execution_count": 2,
   "id": "da98c990",
   "metadata": {},
   "outputs": [],
   "source": [
    "mp_drawing=mp.solutions.drawing_utils\n",
    "mp_holistic=mp.solutions.holistic\n",
    "mp_pose=mp.solutions.pose\n"
   ]
  },
  {
   "cell_type": "code",
   "execution_count": 3,
   "id": "e165e424",
   "metadata": {},
   "outputs": [
    {
     "name": "stderr",
     "output_type": "stream",
     "text": [
      "c:\\Users\\bhawe\\AppData\\Local\\Programs\\Python\\Python312\\Lib\\site-packages\\google\\protobuf\\symbol_database.py:55: UserWarning: SymbolDatabase.GetPrototype() is deprecated. Please use message_factory.GetMessageClass() instead. SymbolDatabase.GetPrototype() will be removed soon.\n",
      "  warnings.warn('SymbolDatabase.GetPrototype() is deprecated. Please '\n"
     ]
    }
   ],
   "source": [
    "import cv2\n",
    "import mediapipe as mp\n",
    "import pydirectinput\n",
    "\n",
    "# Initialize mediapipe holistic modeld\n",
    "mp_holistic = mp.solutions.holistic\n",
    "mp_pose = mp.solutions.pose\n",
    "\n",
    "cap = cv2.VideoCapture(0)\n",
    "cap.set(3, 560)\n",
    "cap.set(4, 400)\n",
    "\n",
    "with mp_holistic.Holistic(min_detection_confidence=0.5, min_tracking_confidence=0.5) as holistic:\n",
    "    while cap.isOpened():\n",
    "        success, img = cap.read()\n",
    "        if not success:\n",
    "            break\n",
    "        \n",
    "        img = cv2.flip(img, 1)\n",
    "        # Convert the color space\n",
    "        img = cv2.cvtColor(img, cv2.COLOR_BGR2RGB)\n",
    "        results = holistic.process(img)\n",
    "        img = cv2.cvtColor(img, cv2.COLOR_RGB2BGR)\n",
    "\n",
    "        height, width, _ = img.shape\n",
    "        y_mid = height / 2  # Initialize y_mid outside the try block\n",
    "        pose = \"move\"  # Initialize pose outside the try block\n",
    "\n",
    "        try:\n",
    "            right_hand = (results.pose_landmarks.landmark[mp_pose.PoseLandmark.LEFT_WRIST].x * width, \n",
    "                          results.pose_landmarks.landmark[mp_pose.PoseLandmark.LEFT_WRIST].y * height)\n",
    "            left_hand = (results.pose_landmarks.landmark[mp_pose.PoseLandmark.RIGHT_WRIST].x * width, \n",
    "                         results.pose_landmarks.landmark[mp_pose.PoseLandmark.RIGHT_WRIST].y * height)\n",
    "\n",
    "            if right_hand[1] < y_mid:\n",
    "                pose = \"acc\"\n",
    "                pydirectinput.keyDown('right')\n",
    "                pydirectinput.keyUp('left')\n",
    "            elif right_hand[1] > y_mid:\n",
    "                pose = \"break\"\n",
    "                pydirectinput.keyDown('left')\n",
    "                pydirectinput.keyUp('right')\n",
    "        except:\n",
    "            pass  # Continue with the default pose\n",
    "\n",
    "        cv2.putText(img, pose, (10, 30), cv2.FONT_HERSHEY_SIMPLEX, 1, (255, 255, 0), 2)\n",
    "        cv2.line(img, (0, int(y_mid)), (width, int(y_mid)), (255, 0, 255), 2)\n",
    "        cv2.imshow('HillClimbingGame', img)\n",
    "        if cv2.waitKey(1) == ord('q'):\n",
    "            break\n",
    "\n",
    "cap.release()\n",
    "cv2.destroyAllWindows()\n"
   ]
  }
 ],
 "metadata": {
  "kernelspec": {
   "display_name": "Python 3 (ipykernel)",
   "language": "python",
   "name": "python3"
  },
  "language_info": {
   "codemirror_mode": {
    "name": "ipython",
    "version": 3
   },
   "file_extension": ".py",
   "mimetype": "text/x-python",
   "name": "python",
   "nbconvert_exporter": "python",
   "pygments_lexer": "ipython3",
   "version": "3.12.2"
  }
 },
 "nbformat": 4,
 "nbformat_minor": 5
}
